{
  "nbformat": 4,
  "nbformat_minor": 0,
  "metadata": {
    "colab": {
      "provenance": [],
      "authorship_tag": "ABX9TyNsRROemQ8mCYdxx1KTaf83",
      "include_colab_link": true
    },
    "kernelspec": {
      "name": "python3",
      "display_name": "Python 3"
    },
    "language_info": {
      "name": "python"
    }
  },
  "cells": [
    {
      "cell_type": "markdown",
      "metadata": {
        "id": "view-in-github",
        "colab_type": "text"
      },
      "source": [
        "<a href=\"https://colab.research.google.com/github/lmcanavals/algorithmic_complexity2023/blob/main/0505_k_cores_solution.ipynb\" target=\"_parent\"><img src=\"https://colab.research.google.com/assets/colab-badge.svg\" alt=\"Open In Colab\"/></a>"
      ]
    },
    {
      "cell_type": "code",
      "execution_count": null,
      "metadata": {
        "colab": {
          "base_uri": "https://localhost:8080/"
        },
        "id": "4B6wD42ezl8m",
        "outputId": "2c6bbfdd-b3bd-49c0-a458-bf22b7e6813b"
      },
      "outputs": [
        {
          "output_type": "stream",
          "name": "stdout",
          "text": [
            "Writing 2.in\n"
          ]
        }
      ],
      "source": [
        "%%file 2.in\n",
        "9 17 3\n",
        "1 2\n",
        "1 3\n",
        "2 3\n",
        "2 6\n",
        "3 4\n",
        "3 5\n",
        "3 6\n",
        "3 7\n",
        "4 5\n",
        "4 7\n",
        "4 8\n",
        "5 7\n",
        "5 8\n",
        "6 7\n",
        "6 9\n",
        "7 8\n",
        "7 9"
      ]
    },
    {
      "cell_type": "code",
      "source": [
        "f = open('2.in')\n",
        "def input():\n",
        "    return f.readline()\n",
        "\n",
        "n,m,k = map(int ,input().split())\n",
        "nodes =[]\n",
        "for i in range(n): nodes.append([])\n",
        "arr = [0]*n\n",
        "\n",
        "for _ in range(m):\n",
        "  a,b = map(int, input().split())\n",
        "  a-=1\n",
        "  b-=1\n",
        "  nodes[a].append(b)\n",
        "  nodes[b].append(a)\n",
        "  arr[a] += 1\n",
        "  arr[b] += 1\n",
        "\n",
        "q = []\n",
        "for i in range(n):\n",
        "  if arr[i] < k:\n",
        "    q.append(i)\n",
        "\n",
        "while len(q):\n",
        "  temp = q.pop()\n",
        "  arr[temp] = 0\n",
        "  for e in nodes[temp]:\n",
        "    if arr[e] != 0:\n",
        "        arr[e] -= 1\n",
        "        nodes[e].remove(temp)\n",
        "        if arr[e] < k:\n",
        "            q.append(e)\n",
        "  nodes[temp] = []\n",
        "\n",
        "print(arr)\n",
        "print(nodes)"
      ],
      "metadata": {
        "colab": {
          "base_uri": "https://localhost:8080/"
        },
        "id": "E1km55DXznWl",
        "outputId": "810832cf-e149-4a64-e4a4-8b3bc059edf9"
      },
      "execution_count": null,
      "outputs": [
        {
          "output_type": "stream",
          "name": "stdout",
          "text": [
            "[0, 0, 3, 4, 4, 0, 4, 3, 0]\n",
            "[[], [], [3, 4, 6], [2, 4, 6, 7], [2, 3, 6, 7], [], [2, 3, 4, 7], [3, 4, 6], []]\n"
          ]
        }
      ]
    },
    {
      "cell_type": "code",
      "source": [],
      "metadata": {
        "id": "ZyiNmgzQ0Mof"
      },
      "execution_count": null,
      "outputs": []
    }
  ]
}