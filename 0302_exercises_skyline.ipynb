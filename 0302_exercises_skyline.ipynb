{
  "nbformat": 4,
  "nbformat_minor": 0,
  "metadata": {
    "colab": {
      "provenance": [],
      "authorship_tag": "ABX9TyPgSzTLGIm/Fvg1vF2rD960",
      "include_colab_link": true
    },
    "kernelspec": {
      "name": "python3",
      "display_name": "Python 3"
    },
    "language_info": {
      "name": "python"
    }
  },
  "cells": [
    {
      "cell_type": "markdown",
      "metadata": {
        "id": "view-in-github",
        "colab_type": "text"
      },
      "source": [
        "<a href=\"https://colab.research.google.com/github/lmcanavals/algorithmic_complexity2023/blob/main/0302_exercises_skyline.ipynb\" target=\"_parent\"><img src=\"https://colab.research.google.com/assets/colab-badge.svg\" alt=\"Open In Colab\"/></a>"
      ]
    },
    {
      "cell_type": "markdown",
      "source": [
        "# Solutions to 3-HojaEjercicios\n",
        "\n",
        "some solitions at least"
      ],
      "metadata": {
        "id": "T2tgCnkbGC-5"
      }
    },
    {
      "cell_type": "code",
      "source": [
        "import numpy as np\n",
        "import numpy.random as nrnd"
      ],
      "metadata": {
        "id": "XujMmGxNG5CT"
      },
      "execution_count": 2,
      "outputs": []
    },
    {
      "cell_type": "markdown",
      "source": [
        "## Ejercicio 1: Elemento máximo de un arreglo"
      ],
      "metadata": {
        "id": "bMg6QDMcGOJy"
      }
    },
    {
      "cell_type": "markdown",
      "source": [
        "#### Escriba un algoritmo “simple” para calcular este problema."
      ],
      "metadata": {
        "id": "DzeQt3I3GT2b"
      }
    },
    {
      "cell_type": "code",
      "source": [
        "# there is a built in function for this: max(lst)\n",
        "\n",
        "def simple(lst) -> float:\n",
        "    maximum = lst[0]\n",
        "    for i in range(1, len(lst)):\n",
        "        if lst[i] > maximum:\n",
        "            maximum = lst[i]\n",
        "\n",
        "    return maximum\n",
        "\n",
        "n = 1000\n",
        "arr = nrnd.rand((n))\n",
        "assert simple(arr) == max(arr)\n",
        "print(\"all good\")\n",
        "%timeit simple(arr)"
      ],
      "metadata": {
        "colab": {
          "base_uri": "https://localhost:8080/"
        },
        "id": "KjsCusvyGX09",
        "outputId": "86737fb1-1b18-4b47-fa43-70bc79e768b6"
      },
      "execution_count": 5,
      "outputs": [
        {
          "output_type": "stream",
          "name": "stdout",
          "text": [
            "all good\n",
            "174 µs ± 56.1 µs per loop (mean ± std. dev. of 7 runs, 10000 loops each)\n"
          ]
        }
      ]
    },
    {
      "cell_type": "markdown",
      "source": [
        "#### Escriba un algoritmo “divide y vencerás” para calcular este problema."
      ],
      "metadata": {
        "id": "Og5pIWXRGWbk"
      }
    },
    {
      "cell_type": "code",
      "execution_count": 8,
      "metadata": {
        "colab": {
          "base_uri": "https://localhost:8080/"
        },
        "id": "8oMU4qtZF5bl",
        "outputId": "8ec13c48-8866-4e5a-8cfb-0690e7da57ec"
      },
      "outputs": [
        {
          "output_type": "stream",
          "name": "stdout",
          "text": [
            "all good\n",
            "492 µs ± 8.95 µs per loop (mean ± std. dev. of 7 runs, 1000 loops each)\n"
          ]
        }
      ],
      "source": [
        "def maxdc(lst) -> float:\n",
        "    n = len(lst)\n",
        "\n",
        "    def solve(i, f):\n",
        "        if i == f:\n",
        "            return lst[i]\n",
        "        m = (i + f) // 2\n",
        "        maxl = solve(i, m)\n",
        "        maxr = solve(m+1, f)\n",
        "        return maxl if maxl > maxr else maxr\n",
        "\n",
        "    return solve(0, n-1)\n",
        "\n",
        "n = 1000\n",
        "arr = nrnd.rand((n))\n",
        "assert maxdc(arr) == max(arr)\n",
        "print(\"all good\")\n",
        "%timeit maxdc(arr)"
      ]
    },
    {
      "cell_type": "code",
      "source": [
        "%timeit max(arr)\n",
        "%timeit arr.max()"
      ],
      "metadata": {
        "colab": {
          "base_uri": "https://localhost:8080/"
        },
        "id": "1sHBPsHUHpJe",
        "outputId": "092fef7e-5ce1-47aa-aaff-075eab1be595"
      },
      "execution_count": 6,
      "outputs": [
        {
          "output_type": "stream",
          "name": "stdout",
          "text": [
            "90.8 µs ± 33.2 µs per loop (mean ± std. dev. of 7 runs, 10000 loops each)\n",
            "2.16 µs ± 482 ns per loop (mean ± std. dev. of 7 runs, 1000000 loops each)\n"
          ]
        }
      ]
    },
    {
      "cell_type": "markdown",
      "source": [
        "## Ejercicio 2: Contador palabras\n",
        "\n",
        "Dado un texto t de n líneas, implementar un algoritmo “divide y vencerás” que cuente el número de palabras que contiene dicho texto.\n",
        "\n",
        "Nota: Problema inicial para el algoritmo MapReduce de Google (fundamental e n Big Data)."
      ],
      "metadata": {
        "id": "VmPr1jFLnSYQ"
      }
    },
    {
      "cell_type": "code",
      "source": [
        "%%file lorem.txt\n",
        "Lorem ipsum dolor sit amet, consectetur adipiscing elit. Maecenas faucibus elit a erat semper finibus. Interdum et malesuada fames ac ante ipsum primis in faucibus. Nunc id nisl ac velit vulputate pretium. Nullam eget orci eget sapien commodo pulvinar sed at nulla. Morbi ut nunc nec ex ornare finibus. Nunc varius venenatis dignissim. Vivamus eu scelerisque neque. Suspendisse tincidunt ex leo, dictum convallis enim pulvinar aliquam. Nulla ultrices est a velit iaculis pretium. Curabitur a fringilla nunc. Curabitur quis ligula in purus tristique tincidunt. Morbi ac urna massa. Suspendisse potenti.\n",
        "\n",
        "Maecenas non lectus nisi. Sed non cursus nisi, a ultricies urna. Aliquam leo dolor, dapibus eu nunc eu, lobortis iaculis elit. Ut accumsan gravida leo eu gravida. Cras eu ullamcorper ex. Duis tellus metus, viverra sed ante ut, fringilla convallis nisl. Fusce venenatis orci eget sollicitudin suscipit. Etiam non pretium turpis, vitae fringilla diam.\n",
        "\n",
        "Suspendisse feugiat, odio in finibus malesuada, lorem lorem commodo lorem, quis condimentum justo purus quis ante. Quisque arcu nulla, congue sit amet est sed, scelerisque fermentum nulla. Nam suscipit tincidunt quam, nec vehicula quam fringilla quis. Nulla porttitor risus eros, vitae lacinia neque mollis at. Curabitur finibus arcu non elit dignissim, eget accumsan purus malesuada. Integer rhoncus nisl nec nibh ultricies ornare. Vestibulum ante ipsum primis in faucibus orci luctus et ultrices posuere cubilia curae; In viverra nunc lectus. Mauris sed nulla felis. Maecenas eleifend consectetur turpis a tempus. Fusce sagittis gravida suscipit. Morbi vehicula ligula vel tincidunt fringilla. Ut venenatis tempor laoreet. Suspendisse in arcu in justo sagittis condimentum. Duis rhoncus ipsum urna, venenatis eleifend quam auctor nec. Praesent sem eros, ultrices in ante vitae, pulvinar vehicula leo.\n",
        "\n",
        "Fusce et sapien vehicula, fermentum nulla vel, aliquet felis. Mauris finibus elementum dolor id semper. Aenean aliquam nisi risus, vel auctor lectus malesuada eu. Maecenas ullamcorper arcu varius nulla tempor accumsan. Suspendisse posuere, elit ut dapibus semper, odio lorem venenatis turpis, vitae mollis libero mauris eget nibh. Phasellus id turpis luctus, ultrices leo id, tempus mi. Quisque est mi, pretium at dolor non, vehicula tincidunt orci. Pellentesque sed viverra tortor, vel iaculis urna. Sed a elit tincidunt lorem efficitur scelerisque. Vestibulum sed diam elementum, dapibus nisi nec, rhoncus arcu. Fusce ut accumsan tellus, eu vulputate justo. Sed ac lacinia diam. Ut cursus mi in ex malesuada faucibus. Fusce tempus pulvinar nulla sed rutrum.\n",
        "\n",
        "Morbi id ipsum quis lacus lobortis gravida. Suspendisse in convallis augue. Donec id urna ut odio ornare fermentum vel eu sapien. Aliquam laoreet magna consectetur, interdum nisl ut, interdum odio. Mauris quis accumsan tortor. Suspendisse magna enim, placerat eu egestas ac, condimentum at purus. In blandit ultricies elit a porta. Integer lacus velit, finibus et tempus ut, consequat sit amet tellus. In eu lacus elit. In sagittis nulla ut hendrerit cursus. Duis est mauris, semper gravida imperdiet vel, consectetur sit amet tortor. In odio lectus, dapibus nec mauris at, fringilla ultrices metus.\n",
        "\n",
        "Cras porta porta cursus. Maecenas eu finibus ante. Ut quis imperdiet eros, cursus vulputate nisl. Quisque velit libero, mattis et quam at, commodo auctor velit. Praesent eleifend est augue. Etiam efficitur ligula rutrum orci laoreet, quis tincidunt orci scelerisque. Aliquam dapibus arcu ipsum, non finibus mauris cursus sodales. Lorem ipsum dolor sit amet, consectetur adipiscing elit. Suspendisse potenti. Nam maximus iaculis commodo. Proin tempus sem in sollicitudin lacinia. In venenatis ut leo at rhoncus.\n",
        "\n",
        "Fusce in ullamcorper urna. Duis consequat mi odio, mollis interdum mauris consectetur et. Vivamus dictum, massa vitae egestas malesuada, massa tortor vulputate mi, eget pellentesque tellus eros ut leo. Nam mollis libero quis dignissim feugiat. Sed at libero nunc. Aenean non magna sit amet ligula posuere maximus a ac nibh. Nam id lacinia nulla. Praesent dolor est, iaculis vitae massa quis, semper dictum justo. Aenean eu suscipit massa, quis finibus metus. Cras rutrum lorem id augue lobortis feugiat. Pellentesque tempor, est quis gravida finibus, libero felis scelerisque leo, a fermentum massa lectus egestas tellus. Mauris tortor lorem, imperdiet in urna vel, lacinia malesuada leo.\n",
        "\n",
        "Aliquam erat volutpat. Cras laoreet ultricies cursus. Sed vel justo mattis, porttitor arcu nec, euismod libero. Quisque non consectetur leo. Fusce dui ipsum, pulvinar eu leo sed, sollicitudin lobortis sem. Etiam pretium ipsum mi, ac elementum tellus suscipit in. Nunc vehicula tincidunt neque, et elementum dolor blandit sed. Maecenas sem odio, malesuada at ipsum id, convallis faucibus urna.\n",
        "\n",
        "In hac habitasse platea dictumst. Sed id accumsan augue, sit amet elementum tortor. Cras interdum, sapien in interdum pulvinar, erat odio imperdiet nunc, eu pulvinar arcu turpis id quam. Nulla et aliquam lectus. In eu mattis arcu. Lorem ipsum dolor sit amet, consectetur adipiscing elit. Vivamus sed ipsum iaculis, rhoncus mauris porttitor, convallis lorem. Mauris nec nibh feugiat, mattis neque eu, dictum ipsum. Vestibulum vel mauris at est consectetur interdum vitae sit amet felis. Suspendisse potenti. Morbi dui metus, fermentum tincidunt posuere et, tempor eu magna. Integer at hendrerit orci. Aliquam erat volutpat. Aliquam erat volutpat.\n",
        "\n",
        "Etiam at varius elit. Proin sodales, dolor et rutrum suscipit, leo dui vehicula odio, et ornare libero magna at augue. Vivamus vulputate consequat sapien, semper dignissim odio porta id. Pellentesque metus sem, consectetur ac rhoncus quis, molestie quis ante. Aliquam efficitur varius quam, eget semper elit dapibus cursus. Pellentesque arcu libero, rhoncus sed semper eu, sagittis nec nulla. Etiam ut dui nulla. Aenean eget justo eleifend justo vulputate elementum vitae commodo odio. Vivamus eget libero a lorem ultricies tincidunt.\n",
        "\n",
        "In vitae eros luctus, dignissim purus vitae, dictum orci. Donec id luctus lectus, sit amet rutrum arcu. Quisque sit amet placerat felis. Aenean vitae augue odio. Nulla commodo vulputate pretium. Etiam in mauris at est lobortis sagittis ac et sem. In at facilisis nunc. Pellentesque varius pharetra aliquet. Mauris sagittis lectus ac leo convallis, vel mattis ex pretium. Ut et est vel sem molestie porttitor at quis velit. Suspendisse consequat enim sem, vel tincidunt ipsum varius at.\n",
        "\n",
        "Maecenas in imperdiet enim. Quisque mattis augue at lectus mattis, sed tempus magna volutpat. Curabitur rhoncus a ligula ac fringilla. Praesent sit amet odio ac risus tincidunt consectetur. Nunc aliquet leo eros, at lobortis."
      ],
      "metadata": {
        "colab": {
          "base_uri": "https://localhost:8080/"
        },
        "id": "KNkk9wcloLm6",
        "outputId": "82a738c8-ef7e-413a-d2b0-12d629633d36"
      },
      "execution_count": 40,
      "outputs": [
        {
          "output_type": "stream",
          "name": "stdout",
          "text": [
            "Writing lorem.txt\n"
          ]
        }
      ]
    },
    {
      "cell_type": "code",
      "source": [
        "with open(\"lorem.txt\") as f:\n",
        "    corpus = f.readlines()\n",
        "\n",
        "len(corpus)"
      ],
      "metadata": {
        "colab": {
          "base_uri": "https://localhost:8080/"
        },
        "id": "ackmG05ZoUb8",
        "outputId": "ce7a046d-af1d-421e-eab8-1f3ae853150d"
      },
      "execution_count": 42,
      "outputs": [
        {
          "output_type": "execute_result",
          "data": {
            "text/plain": [
              "23"
            ]
          },
          "metadata": {},
          "execution_count": 42
        }
      ]
    },
    {
      "cell_type": "code",
      "source": [
        "\"si yo tengo una cadena    así por ejemplo\".split()"
      ],
      "metadata": {
        "colab": {
          "base_uri": "https://localhost:8080/"
        },
        "id": "n6DoOjrXqnda",
        "outputId": "4618ef3a-35c2-45d6-87ac-39f1ea54bb6a"
      },
      "execution_count": 45,
      "outputs": [
        {
          "output_type": "execute_result",
          "data": {
            "text/plain": [
              "['si', 'yo', 'tengo', 'una', 'cadena', 'así', 'por', 'ejemplo']"
            ]
          },
          "metadata": {},
          "execution_count": 45
        }
      ]
    },
    {
      "cell_type": "code",
      "source": [
        "def countWords(line):\n",
        "    return len(line.split())"
      ],
      "metadata": {
        "id": "4sYGzl4-qMll"
      },
      "execution_count": 48,
      "outputs": []
    },
    {
      "cell_type": "code",
      "source": [
        "def handleLines(lines):\n",
        "    n = len(lines)\n",
        "\n",
        "    def process(i, f):\n",
        "        if i == f:\n",
        "            return countWords(lines[i]) if len(lines[i].strip()) > 0 else 0\n",
        "\n",
        "        m = (i + f) // 2\n",
        "        return process(i, m) + process(m+1, f)\n",
        "\n",
        "    return process(0, n-1)\n",
        "\n",
        "handleLines(corpus)"
      ],
      "metadata": {
        "colab": {
          "base_uri": "https://localhost:8080/"
        },
        "id": "lImq0Afqox85",
        "outputId": "12b0adc7-894d-4d9e-f9e4-10ee41b674de"
      },
      "execution_count": 49,
      "outputs": [
        {
          "output_type": "execute_result",
          "data": {
            "text/plain": [
              "1000"
            ]
          },
          "metadata": {},
          "execution_count": 49
        }
      ]
    },
    {
      "cell_type": "markdown",
      "source": [
        "## Ejercicio 4: Skylines\n",
        "\n",
        "Un problema c l á si co para sobreponer imá g e n e s es la eliminación de las líneas ocultas. En el caso en\n",
        "2D el objetivo es de dibujar el skyline de una ciudad. Para simplificar, supongamos que todos los edificios\n",
        "corresponden (por proyección) a rectángulos que comparten toda la misma base (i.e. la ciudad es plana). Un\n",
        "edificio es una tripleta `(g, h, d)`, `d > g ≥ 0, h ≥ 0` que representa al rectángulo `(g, 0), (g, h), (d, h), (d, 0)`. Por\n",
        "ejemplo, para 6 edificios dados por `(3, 13, 9), (1, 11, 5), (19, 18, 22), (3, 6, 7), (16, 3, 25), (12, 7, 16)` (ver la\n",
        "figura 1a), el skyline obtenido será dado por la figura 1b."
      ],
      "metadata": {
        "id": "ZIgkD_vPMlzu"
      }
    },
    {
      "cell_type": "code",
      "source": [
        "import matplotlib.pyplot as plt"
      ],
      "metadata": {
        "id": "xH8ooAz8Hu-6"
      },
      "execution_count": 9,
      "outputs": []
    },
    {
      "cell_type": "code",
      "source": [
        "rects = [(3, 13, 9), (1, 11, 5), (19, 18, 22), (3, 6, 7), (16, 3, 25), (12, 7, 16)]"
      ],
      "metadata": {
        "id": "Z63dHilgNCk8"
      },
      "execution_count": 10,
      "outputs": []
    },
    {
      "cell_type": "code",
      "source": [
        "def drawRect(rect, line='-', lw=1.0):\n",
        "    g, h, d = rect\n",
        "    points = [(g, 0), (g, h), (d, h), (d, 0), (g, 0)]\n",
        "    x, y = zip(*points)\n",
        "    plt.plot(x, y, line, linewidth=lw)\n",
        "\n",
        "for rect in rects:\n",
        "    drawRect(rect)"
      ],
      "metadata": {
        "colab": {
          "base_uri": "https://localhost:8080/",
          "height": 430
        },
        "id": "JYdXB3wgNDwD",
        "outputId": "fdbc9af6-1990-4b19-80d9-7285c6aa2760"
      },
      "execution_count": 26,
      "outputs": [
        {
          "output_type": "display_data",
          "data": {
            "text/plain": [
              "<Figure size 640x480 with 1 Axes>"
            ],
            "image/png": "[encoded data removed]"
          },
          "metadata": {}
        }
      ]
    },
    {
      "cell_type": "code",
      "source": [
        "def getContourFromRect(rect):\n",
        "    g, h, d = rect\n",
        "    return [(g, h), (d, 0)]"
      ],
      "metadata": {
        "id": "dgYiMmq5QrHu"
      },
      "execution_count": 29,
      "outputs": []
    },
    {
      "cell_type": "code",
      "source": [
        "def drawContour(contour, line='-', lw=1.0):\n",
        "    points = [(0, 0)]\n",
        "    for x, y in contour:\n",
        "        points.append((x, points[-1][1]))\n",
        "        points.append((x, y))\n",
        "    x, y = zip(*points)\n",
        "    plt.plot(x, y, line, linewidth=lw)\n",
        "\n",
        "for rect in rects:\n",
        "    drawContour(getContourFromRect(rect))"
      ],
      "metadata": {
        "colab": {
          "base_uri": "https://localhost:8080/",
          "height": 430
        },
        "id": "iR3JefycNtrK",
        "outputId": "91f0f35d-5943-4bf0-8ec9-14c59c73e7ca"
      },
      "execution_count": 33,
      "outputs": [
        {
          "output_type": "display_data",
          "data": {
            "text/plain": [
              "<Figure size 640x480 with 1 Axes>"
            ],
            "image/png": "[encoded data removed]"
          },
          "metadata": {}
        }
      ]
    },
    {
      "cell_type": "code",
      "source": [
        "def addPoint(contour, x, y):\n",
        "    if len(contour) > 0:\n",
        "        if contour[-1][1] == y:\n",
        "            return\n",
        "        elif contour[-1][0] == x:\n",
        "            y0 = contour[-1][1]\n",
        "            contour[-1] = (x, max(y, y0))\n",
        "            return\n",
        "\n",
        "    contour.append((x, y))\n",
        "\n",
        "\n",
        "def merge(contour1, contour2):\n",
        "    contour = []\n",
        "    n1, n2 = len(contour1), len(contour2)\n",
        "    i1, i2 = 0, 0\n",
        "    y1, y2 = 0, 0\n",
        "    while i1 < n1 or i2 < n2:\n",
        "        if i1 >= n1 or i2 < n2 and contour2[i2][0] < contour1[i1][0]:\n",
        "            x, y2 = contour2[i2]\n",
        "            i2 += 1\n",
        "        else:\n",
        "            x, y1 = contour1[i1]\n",
        "            i1 += 1\n",
        "        y = max(y1, y2)\n",
        "        addPoint(contour, x, y)\n",
        "\n",
        "    return contour\n",
        "\n",
        "def skyline(rects):\n",
        "    n = len(rects)\n",
        "\n",
        "    def solve(i, f):\n",
        "        if i == f:\n",
        "            return getContourFromRect(rects[i])\n",
        "        m = (i + f) // 2\n",
        "        contour1 = solve(i, m)\n",
        "        contour2 = solve(m+1, f)\n",
        "        return merge(contour1, contour2)\n",
        "\n",
        "    return solve(0, n-1)"
      ],
      "metadata": {
        "id": "f2lIKgTIRE-T"
      },
      "execution_count": 36,
      "outputs": []
    },
    {
      "cell_type": "code",
      "source": [
        "for rect in rects:\n",
        "    drawRect(rect, '--', 0.5)\n",
        "drawContour(skyline(rects), lw=3)"
      ],
      "metadata": {
        "colab": {
          "base_uri": "https://localhost:8080/",
          "height": 430
        },
        "id": "HCwH1rowVm4d",
        "outputId": "e85649cb-e30a-432c-f810-5e4d4c8316d6"
      },
      "execution_count": 50,
      "outputs": [
        {
          "output_type": "display_data",
          "data": {
            "text/plain": [
              "<Figure size 640x480 with 1 Axes>"
            ],
            "image/png": "[encoded data removed]"
          },
          "metadata": {}
        }
      ]
    },
    {
      "cell_type": "code",
      "source": [],
      "metadata": {
        "id": "mB4YYJjQVsGw"
      },
      "execution_count": null,
      "outputs": []
    }
  ]
}