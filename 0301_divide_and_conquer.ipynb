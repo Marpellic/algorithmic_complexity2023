{
  "nbformat": 4,
  "nbformat_minor": 0,
  "metadata": {
    "colab": {
      "provenance": [],
      "authorship_tag": "ABX9TyOna8KyXpovx79IdpvOpqY7",
      "include_colab_link": true
    },
    "kernelspec": {
      "name": "python3",
      "display_name": "Python 3"
    },
    "language_info": {
      "name": "python"
    }
  },
  "cells": [
    {
      "cell_type": "markdown",
      "metadata": {
        "id": "view-in-github",
        "colab_type": "text"
      },
      "source": [
        "<a href=\"https://colab.research.google.com/github/lmcanavals/algorithmic_complexity2023/blob/main/0301_divide_and_conquer.ipynb\" target=\"_parent\"><img src=\"https://colab.research.google.com/assets/colab-badge.svg\" alt=\"Open In Colab\"/></a>"
      ]
    },
    {
      "cell_type": "markdown",
      "source": [
        "# Divide and conquer"
      ],
      "metadata": {
        "id": "LmrJ-mrPvkHe"
      }
    },
    {
      "cell_type": "markdown",
      "source": [
        "### Multiplication"
      ],
      "metadata": {
        "id": "7tG8ErhWvpBc"
      }
    },
    {
      "cell_type": "code",
      "execution_count": 7,
      "metadata": {
        "colab": {
          "base_uri": "https://localhost:8080/"
        },
        "id": "K2AkylfZvf60",
        "outputId": "2a9a2166-852b-4d29-eb91-f1444c19ffd8"
      },
      "outputs": [
        {
          "output_type": "stream",
          "name": "stdout",
          "text": [
            "all tests successful\n"
          ]
        }
      ],
      "source": [
        "def mult(a, b, n):\n",
        "    if n == 1:\n",
        "        return a*b\n",
        "\n",
        "    ai = a // 10**(n//2)\n",
        "    ad = a % 10**(n//2)\n",
        "    bi = b // 10**(n//2)\n",
        "    bd = b % 10**(n//2)\n",
        "    z1 = mult(ai, bi, n//2) * 10**n\n",
        "    z2 = (mult(ai, bd, n//2) + mult(ad, bi, n//2)) * 10**(n//2)\n",
        "    z3 = mult(ad, bd, n//2)\n",
        "    return z1 + z2 + z3\n",
        "\n",
        "assert mult(1234, 4321, 4) == 1234*4321\n",
        "assert mult(94494994, 38383848, 8) == 94494994 * 38383848\n",
        "print(\"all tests successful\")"
      ]
    },
    {
      "cell_type": "markdown",
      "source": [
        "### Matrix Multiplication"
      ],
      "metadata": {
        "id": "NiPmfiiEygeC"
      }
    },
    {
      "cell_type": "markdown",
      "source": [
        "#### Brute force"
      ],
      "metadata": {
        "id": "JZro5gp-yjve"
      }
    },
    {
      "cell_type": "code",
      "source": [
        "import numpy as np\n",
        "\n",
        "def matmul(a, b):\n",
        "    nrowsa, ncolsa = a.shape\n",
        "    nrowsb, ncolsb = b.shape\n",
        "    if ncolsa != nrowsb:\n",
        "        return None\n",
        "\n",
        "    c = np.zeros((nrowsa, ncolsb), dtype=int)\n",
        "    for i in range(nrowsa):\n",
        "        for j in range(ncolsb):\n",
        "            for k in range(ncolsa):\n",
        "                c[i, j] += a[i, k] * b[k, j]\n",
        "\n",
        "    return c\n",
        "\n",
        "a = np.random.randint(1, 10, size=(4, 3))\n",
        "b = np.random.randint(1, 10, size=(3, 2))\n",
        "\n",
        "c = matmul(a, b)\n",
        "assert (c == np.matmul(a, b)).all()\n",
        "print(c)"
      ],
      "metadata": {
        "colab": {
          "base_uri": "https://localhost:8080/"
        },
        "id": "cJREPVtdxmhs",
        "outputId": "e1054207-e962-471c-f7d0-dc6c61347fd2"
      },
      "execution_count": 18,
      "outputs": [
        {
          "output_type": "stream",
          "name": "stdout",
          "text": [
            "[[ 36  72]\n",
            " [ 49  97]\n",
            " [ 69 135]\n",
            " [ 52 102]]\n"
          ]
        }
      ]
    },
    {
      "cell_type": "code",
      "source": [],
      "metadata": {
        "id": "qqjDfkSB0ltG"
      },
      "execution_count": null,
      "outputs": []
    }
  ]
}