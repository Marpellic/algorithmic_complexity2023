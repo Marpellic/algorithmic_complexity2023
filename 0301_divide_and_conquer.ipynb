{
  "nbformat": 4,
  "nbformat_minor": 0,
  "metadata": {
    "colab": {
      "provenance": [],
      "authorship_tag": "ABX9TyP2lo3Ha8ZDiN6QJ/FuSWu+",
      "include_colab_link": true
    },
    "kernelspec": {
      "name": "python3",
      "display_name": "Python 3"
    },
    "language_info": {
      "name": "python"
    }
  },
  "cells": [
    {
      "cell_type": "markdown",
      "metadata": {
        "id": "view-in-github",
        "colab_type": "text"
      },
      "source": [
        "<a href=\"https://colab.research.google.com/github/lmcanavals/algorithmic_complexity2023/blob/main/0301_divide_and_conquer.ipynb\" target=\"_parent\"><img src=\"https://colab.research.google.com/assets/colab-badge.svg\" alt=\"Open In Colab\"/></a>"
      ]
    },
    {
      "cell_type": "markdown",
      "source": [
        "# Divide and conquer"
      ],
      "metadata": {
        "id": "LmrJ-mrPvkHe"
      }
    },
    {
      "cell_type": "markdown",
      "source": [
        "### Multiplication"
      ],
      "metadata": {
        "id": "7tG8ErhWvpBc"
      }
    },
    {
      "cell_type": "code",
      "execution_count": null,
      "metadata": {
        "colab": {
          "base_uri": "https://localhost:8080/"
        },
        "id": "K2AkylfZvf60",
        "outputId": "2a9a2166-852b-4d29-eb91-f1444c19ffd8"
      },
      "outputs": [
        {
          "output_type": "stream",
          "name": "stdout",
          "text": [
            "all tests successful\n"
          ]
        }
      ],
      "source": [
        "def mult(a, b, n):\n",
        "    if n == 1:\n",
        "        return a*b\n",
        "\n",
        "    ai = a // 10**(n//2)\n",
        "    ad = a % 10**(n//2)\n",
        "    bi = b // 10**(n//2)\n",
        "    bd = b % 10**(n//2)\n",
        "    z1 = mult(ai, bi, n//2) * 10**n\n",
        "    z2 = (mult(ai, bd, n//2) + mult(ad, bi, n//2)) * 10**(n//2)\n",
        "    z3 = mult(ad, bd, n//2)\n",
        "    return z1 + z2 + z3\n",
        "\n",
        "assert mult(1234, 4321, 4) == 1234*4321\n",
        "assert mult(94494994, 38383848, 8) == 94494994 * 38383848\n",
        "print(\"all tests successful\")"
      ]
    },
    {
      "cell_type": "markdown",
      "source": [
        "### Matrix Multiplication"
      ],
      "metadata": {
        "id": "NiPmfiiEygeC"
      }
    },
    {
      "cell_type": "markdown",
      "source": [
        "#### Brute force"
      ],
      "metadata": {
        "id": "JZro5gp-yjve"
      }
    },
    {
      "cell_type": "code",
      "source": [
        "import numpy as np\n",
        "\n",
        "def matmul(a, b):\n",
        "    nrowsa, ncolsa = a.shape\n",
        "    nrowsb, ncolsb = b.shape\n",
        "    if ncolsa != nrowsb:\n",
        "        return None\n",
        "\n",
        "    c = np.zeros((nrowsa, ncolsb), dtype=int)\n",
        "    for i in range(nrowsa):\n",
        "        for j in range(ncolsb):\n",
        "            for k in range(ncolsa):\n",
        "                c[i, j] += a[i, k] * b[k, j]\n",
        "\n",
        "    return c\n",
        "\n",
        "np.random.seed(42)\n",
        "a = np.random.randint(1, 10, size=(4, 3))\n",
        "b = np.random.randint(1, 10, size=(3, 2))\n",
        "\n",
        "c = matmul(a, b)\n",
        "assert (c == np.matmul(a, b)).all()\n",
        "print(c)"
      ],
      "metadata": {
        "colab": {
          "base_uri": "https://localhost:8080/"
        },
        "id": "cJREPVtdxmhs",
        "outputId": "96afad43-e9d7-4d64-d884-d5d259a360a7"
      },
      "execution_count": 3,
      "outputs": [
        {
          "output_type": "stream",
          "name": "stdout",
          "text": [
            "[[105  98]\n",
            " [ 74  62]\n",
            " [101  88]\n",
            " [116  88]]\n"
          ]
        }
      ]
    },
    {
      "cell_type": "markdown",
      "source": [
        "#### Divide and conquer"
      ],
      "metadata": {
        "id": "clVWUArj9_fU"
      }
    },
    {
      "cell_type": "code",
      "source": [
        "def matmuldc(a, b):\n",
        "    nrowsa, ncolsa = a.shape\n",
        "    nrowsb, ncolsb = b.shape\n",
        "    if ncolsa != nrowsb:\n",
        "        return None\n",
        "\n",
        "    c = np.zeros((nrowsa, ncolsb), dtype=int)\n",
        "\n",
        "    def solve(i0, i1, j0, j1):\n",
        "        if i0 == i1 and j0 == j1:\n",
        "            for k in range(ncolsa):\n",
        "                c[i0, j0] += a[i0, k] * b[k, j0]\n",
        "            return\n",
        "        if i0 < i1 and j0 < j1:\n",
        "            mi = (i0 + i1) // 2\n",
        "            mj = (j0 + j1) // 2\n",
        "            solve(i0, mi, j0, mj)\n",
        "            solve(i0, mi, mj+1, j1)\n",
        "            solve(mi+1, i1, j0, mj)\n",
        "            solve(mi+1, i1, mj+1, j1)\n",
        "        elif i0 < i1:\n",
        "            mi = (i0 + i1) // 2\n",
        "            solve(i0, mi, j0, j1)\n",
        "            solve(mi+1, i1, j0, j1)\n",
        "        else:\n",
        "            mj = (j0 + j1) // 2\n",
        "            solve(i0, i1, j0, mj)\n",
        "            solve(i0, i1, mj+1, j1)\n",
        "\n",
        "    solve(0, nrowsa-1, 0, ncolsb-1)\n",
        "    return c\n",
        "\n",
        "np.random.seed(42)\n",
        "a = np.random.randint(1, 10, size=(4, 3))\n",
        "b = np.random.randint(1, 10, size=(3, 2))\n",
        "\n",
        "c = matmuldc(a, b)\n",
        "assert (c == np.matmul(a, b)).all()\n",
        "print(c)"
      ],
      "metadata": {
        "id": "qqjDfkSB0ltG",
        "colab": {
          "base_uri": "https://localhost:8080/"
        },
        "outputId": "cd94c269-3210-4e9d-906a-1c42f1ebd154"
      },
      "execution_count": 11,
      "outputs": [
        {
          "output_type": "stream",
          "name": "stdout",
          "text": [
            "[[105  98]\n",
            " [ 74  62]\n",
            " [101  88]\n",
            " [116  88]]\n"
          ]
        }
      ]
    },
    {
      "cell_type": "code",
      "source": [],
      "metadata": {
        "id": "iXdswGODBJ8Y"
      },
      "execution_count": null,
      "outputs": []
    }
  ]
}