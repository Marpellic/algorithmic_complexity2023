{
  "nbformat": 4,
  "nbformat_minor": 0,
  "metadata": {
    "colab": {
      "provenance": [],
      "authorship_tag": "ABX9TyP2CLdjDww6v4J3AosOu24J",
      "include_colab_link": true
    },
    "kernelspec": {
      "name": "python3",
      "display_name": "Python 3"
    },
    "language_info": {
      "name": "python"
    }
  },
  "cells": [
    {
      "cell_type": "markdown",
      "metadata": {
        "id": "view-in-github",
        "colab_type": "text"
      },
      "source": [
        "<a href=\"https://colab.research.google.com/github/lmcanavals/algorithmic_complexity2023/blob/main/0109_ex_sudoku.ipynb\" target=\"_parent\"><img src=\"https://colab.research.google.com/assets/colab-badge.svg\" alt=\"Open In Colab\"/></a>"
      ]
    },
    {
      "cell_type": "code",
      "execution_count": 1,
      "metadata": {
        "id": "e5gyjHjMorNx"
      },
      "outputs": [],
      "source": [
        "import numpy as np"
      ]
    },
    {
      "cell_type": "code",
      "source": [
        "%%file 1.txt\n",
        "1 2 3 4 5 6 7 8 9\n",
        "4 5 6 7 8 9 1 2 3\n",
        "7 8 9 1 2 3 4 5 6\n",
        "2 3 4 5 6 7 8 9 1\n",
        "5 6 7 8 9 1 2 3 4\n",
        "8 9 1 2 3 4 5 6 7\n",
        "3 4 5 6 7 8 9 1 2\n",
        "6 7 8 9 1 2 3 4 5\n",
        "9 1 2 3 4 5 6 7 8"
      ],
      "metadata": {
        "colab": {
          "base_uri": "https://localhost:8080/"
        },
        "id": "qke_ypyPo6p-",
        "outputId": "d428ae89-a95e-48e5-c3de-4326cd2f7ffc"
      },
      "execution_count": 15,
      "outputs": [
        {
          "output_type": "stream",
          "name": "stdout",
          "text": [
            "Overwriting 1.txt\n"
          ]
        }
      ]
    },
    {
      "cell_type": "code",
      "source": [
        "board = np.loadtxt(\"1.txt\", dtype=int)\n",
        "print(board)"
      ],
      "metadata": {
        "colab": {
          "base_uri": "https://localhost:8080/"
        },
        "id": "BfpN6utFpoIZ",
        "outputId": "f9fe4280-715d-46d8-ba5e-010c3755940d"
      },
      "execution_count": 13,
      "outputs": [
        {
          "output_type": "stream",
          "name": "stdout",
          "text": [
            "[[1 2 3 4 5 6 7 8 9]\n",
            " [4 5 9 7 8 9 1 2 3]\n",
            " [7 8 9 1 2 3 4 5 6]\n",
            " [2 3 4 5 6 7 8 9 1]\n",
            " [5 6 7 8 9 1 2 3 4]\n",
            " [8 9 1 2 3 4 5 6 7]\n",
            " [3 4 5 6 7 8 9 1 2]\n",
            " [6 7 8 9 1 2 3 4 5]\n",
            " [9 1 2 3 4 5 6 7 8]]\n"
          ]
        }
      ]
    },
    {
      "cell_type": "code",
      "source": [
        "def checkVec(vec):\n",
        "    n = len(vec)\n",
        "    count = [0]*n\n",
        "    for e in vec:\n",
        "        if count[e - 1] > 0:\n",
        "            return False\n",
        "        count[e - 1] += 1\n",
        "    return True\n",
        "\n",
        "def checkSudoku(board):\n",
        "    n = len(board)\n",
        "    for i in range(n):\n",
        "        if not (checkVec(board[i]) and checkVec(board[:, i])):\n",
        "            return False\n",
        "    m = int(n**0.5)\n",
        "    for f in range(m):\n",
        "        for c in range(m):\n",
        "            if not checkVec(board[f*m:(f+1)*m, c*m:(c+1)*m].reshape((n))):\n",
        "                return False\n",
        "    return True\n"
      ],
      "metadata": {
        "colab": {
          "base_uri": "https://localhost:8080/"
        },
        "id": "F-4MuiB0qIYs",
        "outputId": "2f09f242-71ed-4453-bc70-2d8b4db3dd86"
      },
      "execution_count": 11,
      "outputs": [
        {
          "output_type": "execute_result",
          "data": {
            "text/plain": [
              "True"
            ]
          },
          "metadata": {},
          "execution_count": 11
        }
      ]
    },
    {
      "cell_type": "code",
      "source": [
        "checkSudoku(board)"
      ],
      "metadata": {
        "colab": {
          "base_uri": "https://localhost:8080/"
        },
        "id": "zTYxEsNirW2C",
        "outputId": "3600b240-30e4-44aa-a498-82e1523e6d9c"
      },
      "execution_count": 14,
      "outputs": [
        {
          "output_type": "execute_result",
          "data": {
            "text/plain": [
              "False"
            ]
          },
          "metadata": {},
          "execution_count": 14
        }
      ]
    },
    {
      "cell_type": "code",
      "source": [],
      "metadata": {
        "id": "uwRIbgk4sNuR"
      },
      "execution_count": 8,
      "outputs": []
    }
  ]
}