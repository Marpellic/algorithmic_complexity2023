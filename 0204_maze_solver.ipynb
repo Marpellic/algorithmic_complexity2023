{
  "nbformat": 4,
  "nbformat_minor": 0,
  "metadata": {
    "colab": {
      "provenance": [],
      "authorship_tag": "ABX9TyPFMj/9U1DGz3DQkI490mbp",
      "include_colab_link": true
    },
    "kernelspec": {
      "name": "python3",
      "display_name": "Python 3"
    },
    "language_info": {
      "name": "python"
    }
  },
  "cells": [
    {
      "cell_type": "markdown",
      "metadata": {
        "id": "view-in-github",
        "colab_type": "text"
      },
      "source": [
        "<a href=\"https://colab.research.google.com/github/lmcanavals/algorithmic_complexity2023/blob/main/0204_maze_solver.ipynb\" target=\"_parent\"><img src=\"https://colab.research.google.com/assets/colab-badge.svg\" alt=\"Open In Colab\"/></a>"
      ]
    },
    {
      "cell_type": "code",
      "execution_count": 1,
      "metadata": {
        "colab": {
          "base_uri": "https://localhost:8080/"
        },
        "id": "i9KD4xRMFYm_",
        "outputId": "d1ca60e6-a12d-4025-a643-4fed6c295ab5"
      },
      "outputs": [
        {
          "output_type": "stream",
          "name": "stderr",
          "text": [
            "  % Total    % Received % Xferd  Average Speed   Time    Time     Time  Current\n",
            "                                 Dload  Upload   Total   Spent    Left  Speed\n",
            "\r  0     0    0     0    0     0      0      0 --:--:-- --:--:-- --:--:--     0\r100   602  100   602    0     0   1542      0 --:--:-- --:--:-- --:--:--  1539\r100   602  100   602    0     0   1538      0 --:--:-- --:--:-- --:--:--  1535\n",
            "  % Total    % Received % Xferd  Average Speed   Time    Time     Time  Current\n",
            "                                 Dload  Upload   Total   Spent    Left  Speed\n",
            "\r  0     0    0     0    0     0      0      0 --:--:-- --:--:-- --:--:--     0\r100  1113  100  1113    0     0   3154      0 --:--:-- --:--:-- --:--:--  3161\n"
          ]
        }
      ],
      "source": [
        "%%bash\n",
        "if [ ! -d utils ]; then\n",
        "    mkdir utils\n",
        "fi\n",
        "cd utils\n",
        "if [ ! -f disjointset.py ]; then\n",
        "    curl -O https://raw.githubusercontent.com/lmcanavals/algorithmic_complexity2023/main/utils/disjointset.py\n",
        "fi\n",
        "if [ ! -f mazebuilder.py ]; then\n",
        "    curl -O https://raw.githubusercontent.com/lmcanavals/algorithmic_complexity2023/main/utils/mazebuilder.py\n",
        "fi\n"
      ]
    },
    {
      "cell_type": "code",
      "source": [
        "from utils.mazebuilder import makeMaze\n",
        "import matplotlib.pyplot as plt"
      ],
      "metadata": {
        "id": "IBRlNVjcIfTI"
      },
      "execution_count": 2,
      "outputs": []
    },
    {
      "cell_type": "code",
      "source": [
        "maze = makeMaze(5, 6)\n",
        "print(maze)"
      ],
      "metadata": {
        "colab": {
          "base_uri": "https://localhost:8080/"
        },
        "id": "aqzUqUKKJB_F",
        "outputId": "a571a18e-0656-41bd-edb6-c6455667c0a6"
      },
      "execution_count": 3,
      "outputs": [
        {
          "output_type": "stream",
          "name": "stdout",
          "text": [
            "[[0. 0. 0. 0. 0. 0. 0. 0. 0. 0. 0. 0. 0.]\n",
            " [3. 1. 1. 1. 1. 1. 0. 1. 1. 1. 1. 1. 0.]\n",
            " [0. 0. 0. 1. 0. 0. 0. 0. 0. 1. 0. 1. 0.]\n",
            " [0. 1. 1. 1. 1. 1. 1. 1. 1. 1. 0. 1. 0.]\n",
            " [0. 0. 0. 1. 0. 0. 0. 0. 0. 1. 0. 1. 0.]\n",
            " [0. 1. 1. 1. 0. 1. 1. 1. 1. 1. 0. 1. 0.]\n",
            " [0. 0. 0. 0. 0. 0. 0. 1. 0. 0. 0. 0. 0.]\n",
            " [0. 1. 1. 1. 1. 1. 1. 1. 0. 1. 1. 1. 0.]\n",
            " [0. 1. 0. 0. 0. 1. 0. 1. 0. 1. 0. 1. 0.]\n",
            " [0. 1. 0. 1. 1. 1. 0. 1. 1. 1. 0. 1. 3.]\n",
            " [0. 0. 0. 0. 0. 0. 0. 0. 0. 0. 0. 0. 0.]]\n"
          ]
        }
      ]
    },
    {
      "cell_type": "code",
      "source": [
        "def showMaze(maze, size=(12, 12)):\n",
        "    plt.subplots(figsize=size)\n",
        "    plt.imshow(maze, cmap=\"plasma\")\n",
        "    plt.axis(\"off\")\n",
        "    plt.show()\n",
        "showMaze(maze)"
      ],
      "metadata": {
        "colab": {
          "base_uri": "https://localhost:8080/",
          "height": 823
        },
        "id": "JREq3hEYJjWu",
        "outputId": "c342ff45-5483-469a-e765-a5568c7a342c"
      },
      "execution_count": 12,
      "outputs": [
        {
          "output_type": "display_data",
          "data": {
            "text/plain": [
              "<Figure size 1200x1200 with 1 Axes>"
            ],
            "image/png": "[encoded data removed]"
          },
          "metadata": {}
        }
      ]
    },
    {
      "cell_type": "code",
      "source": [
        "show"
      ],
      "metadata": {
        "id": "zpkmLFD9J4Ns"
      },
      "execution_count": null,
      "outputs": []
    }
  ]
}