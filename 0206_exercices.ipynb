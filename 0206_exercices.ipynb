{
  "nbformat": 4,
  "nbformat_minor": 0,
  "metadata": {
    "colab": {
      "provenance": [],
      "authorship_tag": "ABX9TyOB0cx5140LUY18BjLR8bl8",
      "include_colab_link": true
    },
    "kernelspec": {
      "name": "python3",
      "display_name": "Python 3"
    },
    "language_info": {
      "name": "python"
    }
  },
  "cells": [
    {
      "cell_type": "markdown",
      "metadata": {
        "id": "view-in-github",
        "colab_type": "text"
      },
      "source": [
        "<a href=\"https://colab.research.google.com/github/lmcanavals/algorithmic_complexity2023/blob/main/0206_exercices.ipynb\" target=\"_parent\"><img src=\"https://colab.research.google.com/assets/colab-badge.svg\" alt=\"Open In Colab\"/></a>"
      ]
    },
    {
      "cell_type": "markdown",
      "source": [
        "## Exercice 2: Polynoms"
      ],
      "metadata": {
        "id": "u-kGZEf68aKu"
      }
    },
    {
      "cell_type": "code",
      "execution_count": 1,
      "metadata": {
        "id": "g33oh-P-8TdQ"
      },
      "outputs": [],
      "source": [
        "def solve(a: list, x0: float) -> float:\n",
        "    n = len(a)\n",
        "    res = 0\n",
        "    for exp in range(n):\n",
        "        res += a[exp] * x0**exp\n",
        "\n",
        "    return res"
      ]
    },
    {
      "cell_type": "markdown",
      "source": [
        "$$\n",
        "p(x) = 6x^5 - 45x^3 - x^2 + 4\n",
        "$$"
      ],
      "metadata": {
        "id": "hNHileR99RC0"
      }
    },
    {
      "cell_type": "code",
      "source": [
        "solve([4, 0, -1, -45, 0, 6], 10)"
      ],
      "metadata": {
        "colab": {
          "base_uri": "https://localhost:8080/"
        },
        "id": "IUlFvanf9HPS",
        "outputId": "e41c5029-d524-4223-d6ab-10519b81ae68"
      },
      "execution_count": 2,
      "outputs": [
        {
          "output_type": "execute_result",
          "data": {
            "text/plain": [
              "554904"
            ]
          },
          "metadata": {},
          "execution_count": 2
        }
      ]
    },
    {
      "cell_type": "code",
      "source": [],
      "metadata": {
        "id": "9E9wMbNa91Jb"
      },
      "execution_count": null,
      "outputs": []
    }
  ]
}