{
  "nbformat": 4,
  "nbformat_minor": 0,
  "metadata": {
    "colab": {
      "provenance": [],
      "authorship_tag": "ABX9TyOMiSeqeko2HnxWvmaytvdW",
      "include_colab_link": true
    },
    "kernelspec": {
      "name": "python3",
      "display_name": "Python 3"
    },
    "language_info": {
      "name": "python"
    }
  },
  "cells": [
    {
      "cell_type": "markdown",
      "metadata": {
        "id": "view-in-github",
        "colab_type": "text"
      },
      "source": [
        "<a href=\"https://colab.research.google.com/github/lmcanavals/algorithmic_complexity2023/blob/main/0201_bruteforce.ipynb\" target=\"_parent\"><img src=\"https://colab.research.google.com/assets/colab-badge.svg\" alt=\"Open In Colab\"/></a>"
      ]
    },
    {
      "cell_type": "markdown",
      "source": [
        "# Brute Force"
      ],
      "metadata": {
        "id": "z1argNxR2uaG"
      }
    },
    {
      "cell_type": "markdown",
      "source": [
        "## Find the element"
      ],
      "metadata": {
        "id": "YyaPbcNO2zu4"
      }
    },
    {
      "cell_type": "markdown",
      "source": [
        "What is enumerate"
      ],
      "metadata": {
        "id": "eUxgOdhk3axu"
      }
    },
    {
      "cell_type": "code",
      "source": [
        "a = ['a', 'x', 'q', 'Hola', 'c']\n",
        "for e in a:\n",
        "    print(e)\n",
        "\n",
        "for i in range(len(a)):\n",
        "    print(f\"{i} -> {a[i]}\")\n",
        "\n",
        "for i, e in enumerate(a):\n",
        "    print(f\"{i} -> {e}\")"
      ],
      "metadata": {
        "colab": {
          "base_uri": "https://localhost:8080/"
        },
        "id": "oFW7Bj4Q3acE",
        "outputId": "9a9b7faf-4344-424d-db4a-73786de8af2f"
      },
      "execution_count": 4,
      "outputs": [
        {
          "output_type": "stream",
          "name": "stdout",
          "text": [
            "a\n",
            "x\n",
            "q\n",
            "Hola\n",
            "c\n",
            "0 -> a\n",
            "1 -> x\n",
            "2 -> q\n",
            "3 -> Hola\n",
            "4 -> c\n",
            "0 -> a\n",
            "1 -> x\n",
            "2 -> q\n",
            "3 -> Hola\n",
            "4 -> c\n"
          ]
        }
      ]
    },
    {
      "cell_type": "code",
      "execution_count": 9,
      "metadata": {
        "id": "-nAvkNnu2oN3"
      },
      "outputs": [],
      "source": [
        "def find(a: list, element) -> int:\n",
        "    for i, e in enumerate(a):\n",
        "        if element == e:\n",
        "            return i\n",
        "\n",
        "    return -1"
      ]
    },
    {
      "cell_type": "markdown",
      "source": [
        "##### Testing"
      ],
      "metadata": {
        "id": "KzJxyjF245Qw"
      }
    },
    {
      "cell_type": "code",
      "source": [
        "a = [1, 2, 6, 3, 7, 8, 9, 4]\n",
        "assert find(a, 6) == 2\n",
        "assert find(a, 7) == 4, \"7 should be in position 4\"\n",
        "assert find(a, 100) == -1\n",
        "assert find(a, 0) == -1"
      ],
      "metadata": {
        "id": "KLSpuPko4jP8"
      },
      "execution_count": 10,
      "outputs": []
    },
    {
      "cell_type": "markdown",
      "source": [
        "## Selection Sort"
      ],
      "metadata": {
        "id": "ya-r1BG25Cd_"
      }
    },
    {
      "cell_type": "code",
      "source": [
        "def selectionSort(a: list):\n",
        "    n = len(a)\n",
        "    for i in range(n - 1):\n",
        "        smallest = i\n",
        "        for j in range(i + 1, n):\n",
        "            if a[j] < a[smallest]:\n",
        "                smallest = j\n",
        "        if i != smallest:\n",
        "            a[i], a[smallest] = a[smallest], a[i]"
      ],
      "metadata": {
        "id": "hJSPbmDS49nL"
      },
      "execution_count": 11,
      "outputs": []
    },
    {
      "cell_type": "markdown",
      "source": [
        "##### Testing"
      ],
      "metadata": {
        "id": "SmrvWaQs52dh"
      }
    },
    {
      "cell_type": "code",
      "source": [
        "import random\n",
        "\n",
        "def check(a):\n",
        "    for i in range(len(a) - 1):\n",
        "        if a[i] > a[i + 1]:\n",
        "            return False\n",
        "    return True\n",
        "\n",
        "a = list(range(1000))\n",
        "random.shuffle(a)\n",
        "selectionSort(a)\n",
        "assert check(a)"
      ],
      "metadata": {
        "id": "5zD1lR7v51sS"
      },
      "execution_count": 13,
      "outputs": []
    }
  ]
}